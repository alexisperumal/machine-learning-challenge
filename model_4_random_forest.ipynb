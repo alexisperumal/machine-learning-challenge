{
 "cells": [
  {
   "cell_type": "code",
   "execution_count": null,
   "metadata": {},
   "outputs": [],
   "source": [
    "# UCSD Data Science Bootcamp, HW 21 ML\n",
    "# Alexis Perumal, 4/28/20\n",
    "# Update sklearn to prevent version mismatches\n",
    "#\n",
    "# Model 3 - Random Forest Classifier\n",
    "#\n",
    "!pip install sklearn --upgrade"
   ]
  },
  {
   "cell_type": "code",
   "execution_count": null,
   "metadata": {},
   "outputs": [],
   "source": [
    "# install joblib. This will be used to save your model. \n",
    "# Restart your kernel after installing \n",
    "!pip install joblib"
   ]
  },
  {
   "cell_type": "code",
   "execution_count": 4,
   "metadata": {},
   "outputs": [],
   "source": [
    "import pandas as pd\n",
    "import numpy as np"
   ]
  },
  {
   "cell_type": "markdown",
   "metadata": {},
   "source": [
    "# Read the CSV and Perform Basic Data Cleaning"
   ]
  },
  {
   "cell_type": "code",
   "execution_count": 5,
   "metadata": {},
   "outputs": [
    {
     "data": {
      "text/html": [
       "<div>\n",
       "<style scoped>\n",
       "    .dataframe tbody tr th:only-of-type {\n",
       "        vertical-align: middle;\n",
       "    }\n",
       "\n",
       "    .dataframe tbody tr th {\n",
       "        vertical-align: top;\n",
       "    }\n",
       "\n",
       "    .dataframe thead th {\n",
       "        text-align: right;\n",
       "    }\n",
       "</style>\n",
       "<table border=\"1\" class=\"dataframe\">\n",
       "  <thead>\n",
       "    <tr style=\"text-align: right;\">\n",
       "      <th></th>\n",
       "      <th>koi_disposition</th>\n",
       "      <th>koi_fpflag_nt</th>\n",
       "      <th>koi_fpflag_ss</th>\n",
       "      <th>koi_fpflag_co</th>\n",
       "      <th>koi_fpflag_ec</th>\n",
       "      <th>koi_period</th>\n",
       "      <th>koi_period_err1</th>\n",
       "      <th>koi_period_err2</th>\n",
       "      <th>koi_time0bk</th>\n",
       "      <th>koi_time0bk_err1</th>\n",
       "      <th>...</th>\n",
       "      <th>koi_steff_err2</th>\n",
       "      <th>koi_slogg</th>\n",
       "      <th>koi_slogg_err1</th>\n",
       "      <th>koi_slogg_err2</th>\n",
       "      <th>koi_srad</th>\n",
       "      <th>koi_srad_err1</th>\n",
       "      <th>koi_srad_err2</th>\n",
       "      <th>ra</th>\n",
       "      <th>dec</th>\n",
       "      <th>koi_kepmag</th>\n",
       "    </tr>\n",
       "  </thead>\n",
       "  <tbody>\n",
       "    <tr>\n",
       "      <th>0</th>\n",
       "      <td>CONFIRMED</td>\n",
       "      <td>0</td>\n",
       "      <td>0</td>\n",
       "      <td>0</td>\n",
       "      <td>0</td>\n",
       "      <td>54.418383</td>\n",
       "      <td>2.479000e-04</td>\n",
       "      <td>-2.479000e-04</td>\n",
       "      <td>162.513840</td>\n",
       "      <td>0.003520</td>\n",
       "      <td>...</td>\n",
       "      <td>-81</td>\n",
       "      <td>4.467</td>\n",
       "      <td>0.064</td>\n",
       "      <td>-0.096</td>\n",
       "      <td>0.927</td>\n",
       "      <td>0.105</td>\n",
       "      <td>-0.061</td>\n",
       "      <td>291.93423</td>\n",
       "      <td>48.141651</td>\n",
       "      <td>15.347</td>\n",
       "    </tr>\n",
       "    <tr>\n",
       "      <th>1</th>\n",
       "      <td>FALSE POSITIVE</td>\n",
       "      <td>0</td>\n",
       "      <td>1</td>\n",
       "      <td>0</td>\n",
       "      <td>0</td>\n",
       "      <td>19.899140</td>\n",
       "      <td>1.490000e-05</td>\n",
       "      <td>-1.490000e-05</td>\n",
       "      <td>175.850252</td>\n",
       "      <td>0.000581</td>\n",
       "      <td>...</td>\n",
       "      <td>-176</td>\n",
       "      <td>4.544</td>\n",
       "      <td>0.044</td>\n",
       "      <td>-0.176</td>\n",
       "      <td>0.868</td>\n",
       "      <td>0.233</td>\n",
       "      <td>-0.078</td>\n",
       "      <td>297.00482</td>\n",
       "      <td>48.134129</td>\n",
       "      <td>15.436</td>\n",
       "    </tr>\n",
       "    <tr>\n",
       "      <th>2</th>\n",
       "      <td>FALSE POSITIVE</td>\n",
       "      <td>0</td>\n",
       "      <td>1</td>\n",
       "      <td>0</td>\n",
       "      <td>0</td>\n",
       "      <td>1.736952</td>\n",
       "      <td>2.630000e-07</td>\n",
       "      <td>-2.630000e-07</td>\n",
       "      <td>170.307565</td>\n",
       "      <td>0.000115</td>\n",
       "      <td>...</td>\n",
       "      <td>-174</td>\n",
       "      <td>4.564</td>\n",
       "      <td>0.053</td>\n",
       "      <td>-0.168</td>\n",
       "      <td>0.791</td>\n",
       "      <td>0.201</td>\n",
       "      <td>-0.067</td>\n",
       "      <td>285.53461</td>\n",
       "      <td>48.285210</td>\n",
       "      <td>15.597</td>\n",
       "    </tr>\n",
       "    <tr>\n",
       "      <th>3</th>\n",
       "      <td>CONFIRMED</td>\n",
       "      <td>0</td>\n",
       "      <td>0</td>\n",
       "      <td>0</td>\n",
       "      <td>0</td>\n",
       "      <td>2.525592</td>\n",
       "      <td>3.760000e-06</td>\n",
       "      <td>-3.760000e-06</td>\n",
       "      <td>171.595550</td>\n",
       "      <td>0.001130</td>\n",
       "      <td>...</td>\n",
       "      <td>-211</td>\n",
       "      <td>4.438</td>\n",
       "      <td>0.070</td>\n",
       "      <td>-0.210</td>\n",
       "      <td>1.046</td>\n",
       "      <td>0.334</td>\n",
       "      <td>-0.133</td>\n",
       "      <td>288.75488</td>\n",
       "      <td>48.226200</td>\n",
       "      <td>15.509</td>\n",
       "    </tr>\n",
       "    <tr>\n",
       "      <th>4</th>\n",
       "      <td>CONFIRMED</td>\n",
       "      <td>0</td>\n",
       "      <td>0</td>\n",
       "      <td>0</td>\n",
       "      <td>0</td>\n",
       "      <td>4.134435</td>\n",
       "      <td>1.050000e-05</td>\n",
       "      <td>-1.050000e-05</td>\n",
       "      <td>172.979370</td>\n",
       "      <td>0.001900</td>\n",
       "      <td>...</td>\n",
       "      <td>-232</td>\n",
       "      <td>4.486</td>\n",
       "      <td>0.054</td>\n",
       "      <td>-0.229</td>\n",
       "      <td>0.972</td>\n",
       "      <td>0.315</td>\n",
       "      <td>-0.105</td>\n",
       "      <td>296.28613</td>\n",
       "      <td>48.224670</td>\n",
       "      <td>15.714</td>\n",
       "    </tr>\n",
       "  </tbody>\n",
       "</table>\n",
       "<p>5 rows × 41 columns</p>\n",
       "</div>"
      ],
      "text/plain": [
       "  koi_disposition  koi_fpflag_nt  koi_fpflag_ss  koi_fpflag_co  koi_fpflag_ec  \\\n",
       "0       CONFIRMED              0              0              0              0   \n",
       "1  FALSE POSITIVE              0              1              0              0   \n",
       "2  FALSE POSITIVE              0              1              0              0   \n",
       "3       CONFIRMED              0              0              0              0   \n",
       "4       CONFIRMED              0              0              0              0   \n",
       "\n",
       "   koi_period  koi_period_err1  koi_period_err2  koi_time0bk  \\\n",
       "0   54.418383     2.479000e-04    -2.479000e-04   162.513840   \n",
       "1   19.899140     1.490000e-05    -1.490000e-05   175.850252   \n",
       "2    1.736952     2.630000e-07    -2.630000e-07   170.307565   \n",
       "3    2.525592     3.760000e-06    -3.760000e-06   171.595550   \n",
       "4    4.134435     1.050000e-05    -1.050000e-05   172.979370   \n",
       "\n",
       "   koi_time0bk_err1  ...  koi_steff_err2  koi_slogg  koi_slogg_err1  \\\n",
       "0          0.003520  ...             -81      4.467           0.064   \n",
       "1          0.000581  ...            -176      4.544           0.044   \n",
       "2          0.000115  ...            -174      4.564           0.053   \n",
       "3          0.001130  ...            -211      4.438           0.070   \n",
       "4          0.001900  ...            -232      4.486           0.054   \n",
       "\n",
       "   koi_slogg_err2  koi_srad  koi_srad_err1  koi_srad_err2         ra  \\\n",
       "0          -0.096     0.927          0.105         -0.061  291.93423   \n",
       "1          -0.176     0.868          0.233         -0.078  297.00482   \n",
       "2          -0.168     0.791          0.201         -0.067  285.53461   \n",
       "3          -0.210     1.046          0.334         -0.133  288.75488   \n",
       "4          -0.229     0.972          0.315         -0.105  296.28613   \n",
       "\n",
       "         dec  koi_kepmag  \n",
       "0  48.141651      15.347  \n",
       "1  48.134129      15.436  \n",
       "2  48.285210      15.597  \n",
       "3  48.226200      15.509  \n",
       "4  48.224670      15.714  \n",
       "\n",
       "[5 rows x 41 columns]"
      ]
     },
     "execution_count": 5,
     "metadata": {},
     "output_type": "execute_result"
    }
   ],
   "source": [
    "df = pd.read_csv(\"exoplanet_data.csv\")\n",
    "# Drop the null columns where all values are null\n",
    "df = df.dropna(axis='columns', how='all')\n",
    "# Drop the null rows\n",
    "df = df.dropna()\n",
    "df.head()"
   ]
  },
  {
   "cell_type": "code",
   "execution_count": 6,
   "metadata": {},
   "outputs": [
    {
     "data": {
      "text/plain": [
       "Index(['koi_disposition', 'koi_fpflag_nt', 'koi_fpflag_ss', 'koi_fpflag_co',\n",
       "       'koi_fpflag_ec', 'koi_period', 'koi_period_err1', 'koi_period_err2',\n",
       "       'koi_time0bk', 'koi_time0bk_err1', 'koi_time0bk_err2', 'koi_impact',\n",
       "       'koi_impact_err1', 'koi_impact_err2', 'koi_duration',\n",
       "       'koi_duration_err1', 'koi_duration_err2', 'koi_depth', 'koi_depth_err1',\n",
       "       'koi_depth_err2', 'koi_prad', 'koi_prad_err1', 'koi_prad_err2',\n",
       "       'koi_teq', 'koi_insol', 'koi_insol_err1', 'koi_insol_err2',\n",
       "       'koi_model_snr', 'koi_tce_plnt_num', 'koi_steff', 'koi_steff_err1',\n",
       "       'koi_steff_err2', 'koi_slogg', 'koi_slogg_err1', 'koi_slogg_err2',\n",
       "       'koi_srad', 'koi_srad_err1', 'koi_srad_err2', 'ra', 'dec',\n",
       "       'koi_kepmag'],\n",
       "      dtype='object')"
      ]
     },
     "execution_count": 6,
     "metadata": {},
     "output_type": "execute_result"
    }
   ],
   "source": [
    "df.columns"
   ]
  },
  {
   "cell_type": "markdown",
   "metadata": {},
   "source": [
    "# Select your features (columns)"
   ]
  },
  {
   "cell_type": "code",
   "execution_count": 7,
   "metadata": {},
   "outputs": [],
   "source": [
    "# Set features. This will also be used as your x values.\n",
    "# selected_features = df[['names', 'of', 'selected', 'features', 'here']]\n",
    "selected_features = df[ ['koi_fpflag_nt', 'koi_fpflag_ss', 'koi_fpflag_co',\n",
    "       'koi_fpflag_ec', 'koi_period', 'koi_time0bk', 'koi_impact','koi_duration', 'koi_depth', 'koi_prad',\n",
    "       'koi_teq', 'koi_insol', 'koi_model_snr', 'koi_tce_plnt_num', 'koi_steff', 'koi_slogg',\n",
    "       'koi_srad', 'ra', 'dec', 'koi_kepmag'] ]"
   ]
  },
  {
   "cell_type": "markdown",
   "metadata": {},
   "source": [
    "# Create a Train Test Split\n",
    "\n",
    "Use `koi_disposition` for the y values"
   ]
  },
  {
   "cell_type": "code",
   "execution_count": 8,
   "metadata": {},
   "outputs": [
    {
     "data": {
      "text/plain": [
       "0            CONFIRMED\n",
       "1       FALSE POSITIVE\n",
       "2       FALSE POSITIVE\n",
       "3            CONFIRMED\n",
       "4            CONFIRMED\n",
       "             ...      \n",
       "6986    FALSE POSITIVE\n",
       "6987    FALSE POSITIVE\n",
       "6988         CANDIDATE\n",
       "6989    FALSE POSITIVE\n",
       "6990    FALSE POSITIVE\n",
       "Name: koi_disposition, Length: 6991, dtype: object"
      ]
     },
     "execution_count": 8,
     "metadata": {},
     "output_type": "execute_result"
    }
   ],
   "source": [
    "# y = df[\"koi_disposition\"].map({'CANDIDATE':0.0, 'CONFIRMED':1.0, 'FALSE POSITIVE':0.0}).values.reshape(-1, 1)\n",
    "y = df[\"koi_disposition\"]\n",
    "\n",
    "from sklearn.model_selection import train_test_split\n",
    "\n",
    "X_train, X_test, y_train, y_test = train_test_split(selected_features, y, random_state=1)\n",
    "\n",
    "y"
   ]
  },
  {
   "cell_type": "code",
   "execution_count": 9,
   "metadata": {},
   "outputs": [
    {
     "name": "stdout",
     "output_type": "stream",
     "text": [
      "X_train length:  5243\n",
      "X_test length:  1748\n",
      "y_train length:  5243\n",
      "y_test length:  1748\n"
     ]
    },
    {
     "data": {
      "text/plain": [
       "(5243, 20)"
      ]
     },
     "execution_count": 9,
     "metadata": {},
     "output_type": "execute_result"
    }
   ],
   "source": [
    "print(\"X_train length: \", len(X_train))\n",
    "print(\"X_test length: \", len(X_test))\n",
    "print(\"y_train length: \", len(y_train))\n",
    "print(\"y_test length: \", len(y_test))\n",
    "X_train.head()\n",
    "X_train.shape"
   ]
  },
  {
   "cell_type": "markdown",
   "metadata": {},
   "source": [
    "# Pre-processing\n",
    "\n",
    "Scale the data using the MinMaxScaler and perform some feature selection"
   ]
  },
  {
   "cell_type": "code",
   "execution_count": 10,
   "metadata": {},
   "outputs": [],
   "source": [
    "# Scale your data\n",
    "from sklearn.preprocessing import StandardScaler\n",
    "X_scaler = StandardScaler().fit(X_train)\n",
    "# y_scaler = StandardScaler().fit(y_train)"
   ]
  },
  {
   "cell_type": "code",
   "execution_count": 11,
   "metadata": {},
   "outputs": [],
   "source": [
    "X_train_scaled = X_scaler.transform(X_train)\n",
    "X_test_scaled = X_scaler.transform(X_test)\n",
    "# y_train_scaled = y_scaler.transform(y_train)\n",
    "# y_test_scaled = y_scaler.transform(y_test)"
   ]
  },
  {
   "cell_type": "markdown",
   "metadata": {},
   "source": [
    "# Classifier Model of Choice"
   ]
  },
  {
   "cell_type": "code",
   "execution_count": 12,
   "metadata": {},
   "outputs": [],
   "source": [
    "# from sklearn.linear_model import LogisticRegression\n",
    "# classifier = LogisticRegression(random_state=99)\n",
    "# classifier"
   ]
  },
  {
   "cell_type": "code",
   "execution_count": 13,
   "metadata": {},
   "outputs": [],
   "source": [
    "# # Note SVM needs sclaed data, but random forest doesn't.\n",
    "# from sklearn.svm import SVC\n",
    "# classifier = SVC()\n",
    "# classifier"
   ]
  },
  {
   "cell_type": "code",
   "execution_count": 14,
   "metadata": {},
   "outputs": [
    {
     "data": {
      "text/plain": [
       "RandomForestClassifier(bootstrap=True, ccp_alpha=0.0, class_weight=None,\n",
       "                       criterion='gini', max_depth=None, max_features='auto',\n",
       "                       max_leaf_nodes=None, max_samples=None,\n",
       "                       min_impurity_decrease=0.0, min_impurity_split=None,\n",
       "                       min_samples_leaf=1, min_samples_split=2,\n",
       "                       min_weight_fraction_leaf=0.0, n_estimators=100,\n",
       "                       n_jobs=None, oob_score=False, random_state=99, verbose=0,\n",
       "                       warm_start=False)"
      ]
     },
     "execution_count": 14,
     "metadata": {},
     "output_type": "execute_result"
    }
   ],
   "source": [
    "# Note SVM needs sclaed data, but random forest doesn't.\n",
    "from sklearn.ensemble import RandomForestClassifier\n",
    "classifier = RandomForestClassifier(random_state=99)\n",
    "classifier"
   ]
  },
  {
   "cell_type": "code",
   "execution_count": 18,
   "metadata": {},
   "outputs": [],
   "source": [
    "y_train = y_train.ravel()"
   ]
  },
  {
   "cell_type": "code",
   "execution_count": 19,
   "metadata": {},
   "outputs": [],
   "source": [
    "model2 = classifier.fit(X_train_scaled, y_train)"
   ]
  },
  {
   "cell_type": "markdown",
   "metadata": {},
   "source": [
    "# Train the Model\n",
    "\n"
   ]
  },
  {
   "cell_type": "code",
   "execution_count": 20,
   "metadata": {},
   "outputs": [
    {
     "name": "stdout",
     "output_type": "stream",
     "text": [
      "Training Data Score: 1.0\n",
      "Testing Data Score: 0.9107551487414187\n"
     ]
    }
   ],
   "source": [
    "print(f\"Training Data Score: {model2.score(X_train_scaled, y_train)}\")\n",
    "print(f\"Testing Data Score: {model2.score(X_test_scaled, y_test)}\")"
   ]
  },
  {
   "cell_type": "markdown",
   "metadata": {},
   "source": [
    "# Hyperparameter Tuning\n",
    "\n",
    "Use `GridSearchCV` to tune the model's parameters"
   ]
  },
  {
   "cell_type": "code",
   "execution_count": 21,
   "metadata": {},
   "outputs": [],
   "source": [
    "# # Create the GridSearchCV model for Logistic Regression\n",
    "# from sklearn.model_selection import GridSearchCV\n",
    "# param_grid = {'C': [0.1, 0.5, 1, 1.5, 2, 3, 5, 7, 10],\n",
    "#               'penalty': [\"l1\", \"l2\"]}\n",
    "# grid = GridSearchCV(model2, param_grid, verbose=3)"
   ]
  },
  {
   "cell_type": "code",
   "execution_count": 24,
   "metadata": {},
   "outputs": [],
   "source": [
    "# Create the GridSearchCV model for Logistic Regression\n",
    "from sklearn.model_selection import GridSearchCV\n",
    "param_grid = {'n_estimators': [50, 75, 100, 125, 150],\n",
    "              'max_features':[None, 'auto', 'sqrt']\n",
    "              }\n",
    "grid = GridSearchCV(model2, param_grid, verbose=3)"
   ]
  },
  {
   "cell_type": "code",
   "execution_count": 25,
   "metadata": {},
   "outputs": [
    {
     "name": "stdout",
     "output_type": "stream",
     "text": [
      "Fitting 5 folds for each of 15 candidates, totalling 75 fits\n",
      "[CV] max_features=None, n_estimators=50 ..............................\n"
     ]
    },
    {
     "name": "stderr",
     "output_type": "stream",
     "text": [
      "[Parallel(n_jobs=1)]: Using backend SequentialBackend with 1 concurrent workers.\n"
     ]
    },
    {
     "name": "stdout",
     "output_type": "stream",
     "text": [
      "[CV] .. max_features=None, n_estimators=50, score=0.888, total=   2.0s\n",
      "[CV] max_features=None, n_estimators=50 ..............................\n"
     ]
    },
    {
     "name": "stderr",
     "output_type": "stream",
     "text": [
      "[Parallel(n_jobs=1)]: Done   1 out of   1 | elapsed:    2.0s remaining:    0.0s\n"
     ]
    },
    {
     "name": "stdout",
     "output_type": "stream",
     "text": [
      "[CV] .. max_features=None, n_estimators=50, score=0.886, total=   2.0s\n",
      "[CV] max_features=None, n_estimators=50 ..............................\n"
     ]
    },
    {
     "name": "stderr",
     "output_type": "stream",
     "text": [
      "[Parallel(n_jobs=1)]: Done   2 out of   2 | elapsed:    4.1s remaining:    0.0s\n"
     ]
    },
    {
     "name": "stdout",
     "output_type": "stream",
     "text": [
      "[CV] .. max_features=None, n_estimators=50, score=0.891, total=   2.0s\n",
      "[CV] max_features=None, n_estimators=50 ..............................\n",
      "[CV] .. max_features=None, n_estimators=50, score=0.902, total=   2.0s\n",
      "[CV] max_features=None, n_estimators=50 ..............................\n",
      "[CV] .. max_features=None, n_estimators=50, score=0.887, total=   2.0s\n",
      "[CV] max_features=None, n_estimators=75 ..............................\n",
      "[CV] .. max_features=None, n_estimators=75, score=0.888, total=   3.1s\n",
      "[CV] max_features=None, n_estimators=75 ..............................\n",
      "[CV] .. max_features=None, n_estimators=75, score=0.890, total=   3.0s\n",
      "[CV] max_features=None, n_estimators=75 ..............................\n",
      "[CV] .. max_features=None, n_estimators=75, score=0.890, total=   3.0s\n",
      "[CV] max_features=None, n_estimators=75 ..............................\n",
      "[CV] .. max_features=None, n_estimators=75, score=0.905, total=   3.0s\n",
      "[CV] max_features=None, n_estimators=75 ..............................\n",
      "[CV] .. max_features=None, n_estimators=75, score=0.885, total=   3.1s\n",
      "[CV] max_features=None, n_estimators=100 .............................\n",
      "[CV] . max_features=None, n_estimators=100, score=0.888, total=   3.9s\n",
      "[CV] max_features=None, n_estimators=100 .............................\n",
      "[CV] . max_features=None, n_estimators=100, score=0.890, total=   4.0s\n",
      "[CV] max_features=None, n_estimators=100 .............................\n",
      "[CV] . max_features=None, n_estimators=100, score=0.895, total=   4.0s\n",
      "[CV] max_features=None, n_estimators=100 .............................\n",
      "[CV] . max_features=None, n_estimators=100, score=0.902, total=   4.0s\n",
      "[CV] max_features=None, n_estimators=100 .............................\n",
      "[CV] . max_features=None, n_estimators=100, score=0.887, total=   4.0s\n",
      "[CV] max_features=None, n_estimators=125 .............................\n",
      "[CV] . max_features=None, n_estimators=125, score=0.890, total=   4.7s\n",
      "[CV] max_features=None, n_estimators=125 .............................\n",
      "[CV] . max_features=None, n_estimators=125, score=0.890, total=   4.9s\n",
      "[CV] max_features=None, n_estimators=125 .............................\n",
      "[CV] . max_features=None, n_estimators=125, score=0.893, total=   4.9s\n",
      "[CV] max_features=None, n_estimators=125 .............................\n",
      "[CV] . max_features=None, n_estimators=125, score=0.904, total=   5.0s\n",
      "[CV] max_features=None, n_estimators=125 .............................\n",
      "[CV] . max_features=None, n_estimators=125, score=0.885, total=   5.0s\n",
      "[CV] max_features=None, n_estimators=150 .............................\n",
      "[CV] . max_features=None, n_estimators=150, score=0.888, total=   5.9s\n",
      "[CV] max_features=None, n_estimators=150 .............................\n",
      "[CV] . max_features=None, n_estimators=150, score=0.893, total=   6.0s\n",
      "[CV] max_features=None, n_estimators=150 .............................\n",
      "[CV] . max_features=None, n_estimators=150, score=0.890, total=   6.0s\n",
      "[CV] max_features=None, n_estimators=150 .............................\n",
      "[CV] . max_features=None, n_estimators=150, score=0.902, total=   6.1s\n",
      "[CV] max_features=None, n_estimators=150 .............................\n",
      "[CV] . max_features=None, n_estimators=150, score=0.886, total=   6.4s\n",
      "[CV] max_features=auto, n_estimators=50 ..............................\n",
      "[CV] .. max_features=auto, n_estimators=50, score=0.891, total=   0.5s\n",
      "[CV] max_features=auto, n_estimators=50 ..............................\n",
      "[CV] .. max_features=auto, n_estimators=50, score=0.896, total=   0.5s\n",
      "[CV] max_features=auto, n_estimators=50 ..............................\n",
      "[CV] .. max_features=auto, n_estimators=50, score=0.884, total=   0.5s\n",
      "[CV] max_features=auto, n_estimators=50 ..............................\n",
      "[CV] .. max_features=auto, n_estimators=50, score=0.896, total=   0.5s\n",
      "[CV] max_features=auto, n_estimators=50 ..............................\n",
      "[CV] .. max_features=auto, n_estimators=50, score=0.885, total=   0.5s\n",
      "[CV] max_features=auto, n_estimators=75 ..............................\n",
      "[CV] .. max_features=auto, n_estimators=75, score=0.890, total=   0.8s\n",
      "[CV] max_features=auto, n_estimators=75 ..............................\n",
      "[CV] .. max_features=auto, n_estimators=75, score=0.896, total=   0.8s\n",
      "[CV] max_features=auto, n_estimators=75 ..............................\n",
      "[CV] .. max_features=auto, n_estimators=75, score=0.892, total=   0.8s\n",
      "[CV] max_features=auto, n_estimators=75 ..............................\n",
      "[CV] .. max_features=auto, n_estimators=75, score=0.898, total=   0.8s\n",
      "[CV] max_features=auto, n_estimators=75 ..............................\n",
      "[CV] .. max_features=auto, n_estimators=75, score=0.887, total=   0.8s\n",
      "[CV] max_features=auto, n_estimators=100 .............................\n",
      "[CV] . max_features=auto, n_estimators=100, score=0.895, total=   1.0s\n",
      "[CV] max_features=auto, n_estimators=100 .............................\n",
      "[CV] . max_features=auto, n_estimators=100, score=0.897, total=   1.2s\n",
      "[CV] max_features=auto, n_estimators=100 .............................\n",
      "[CV] . max_features=auto, n_estimators=100, score=0.890, total=   1.0s\n",
      "[CV] max_features=auto, n_estimators=100 .............................\n",
      "[CV] . max_features=auto, n_estimators=100, score=0.898, total=   1.0s\n",
      "[CV] max_features=auto, n_estimators=100 .............................\n",
      "[CV] . max_features=auto, n_estimators=100, score=0.885, total=   1.0s\n",
      "[CV] max_features=auto, n_estimators=125 .............................\n",
      "[CV] . max_features=auto, n_estimators=125, score=0.896, total=   1.3s\n",
      "[CV] max_features=auto, n_estimators=125 .............................\n",
      "[CV] . max_features=auto, n_estimators=125, score=0.901, total=   1.3s\n",
      "[CV] max_features=auto, n_estimators=125 .............................\n",
      "[CV] . max_features=auto, n_estimators=125, score=0.888, total=   1.3s\n",
      "[CV] max_features=auto, n_estimators=125 .............................\n",
      "[CV] . max_features=auto, n_estimators=125, score=0.906, total=   1.3s\n",
      "[CV] max_features=auto, n_estimators=125 .............................\n",
      "[CV] . max_features=auto, n_estimators=125, score=0.886, total=   1.2s\n",
      "[CV] max_features=auto, n_estimators=150 .............................\n",
      "[CV] . max_features=auto, n_estimators=150, score=0.895, total=   1.5s\n",
      "[CV] max_features=auto, n_estimators=150 .............................\n",
      "[CV] . max_features=auto, n_estimators=150, score=0.900, total=   1.5s\n",
      "[CV] max_features=auto, n_estimators=150 .............................\n",
      "[CV] . max_features=auto, n_estimators=150, score=0.890, total=   1.5s\n",
      "[CV] max_features=auto, n_estimators=150 .............................\n",
      "[CV] . max_features=auto, n_estimators=150, score=0.904, total=   1.5s\n",
      "[CV] max_features=auto, n_estimators=150 .............................\n",
      "[CV] . max_features=auto, n_estimators=150, score=0.888, total=   1.4s\n",
      "[CV] max_features=sqrt, n_estimators=50 ..............................\n",
      "[CV] .. max_features=sqrt, n_estimators=50, score=0.891, total=   0.5s\n",
      "[CV] max_features=sqrt, n_estimators=50 ..............................\n",
      "[CV] .. max_features=sqrt, n_estimators=50, score=0.896, total=   0.5s\n",
      "[CV] max_features=sqrt, n_estimators=50 ..............................\n",
      "[CV] .. max_features=sqrt, n_estimators=50, score=0.884, total=   0.5s\n",
      "[CV] max_features=sqrt, n_estimators=50 ..............................\n",
      "[CV] .. max_features=sqrt, n_estimators=50, score=0.896, total=   0.5s\n",
      "[CV] max_features=sqrt, n_estimators=50 ..............................\n",
      "[CV] .. max_features=sqrt, n_estimators=50, score=0.885, total=   0.5s\n",
      "[CV] max_features=sqrt, n_estimators=75 ..............................\n",
      "[CV] .. max_features=sqrt, n_estimators=75, score=0.890, total=   0.7s\n",
      "[CV] max_features=sqrt, n_estimators=75 ..............................\n",
      "[CV] .. max_features=sqrt, n_estimators=75, score=0.896, total=   0.7s\n",
      "[CV] max_features=sqrt, n_estimators=75 ..............................\n",
      "[CV] .. max_features=sqrt, n_estimators=75, score=0.892, total=   0.8s\n",
      "[CV] max_features=sqrt, n_estimators=75 ..............................\n",
      "[CV] .. max_features=sqrt, n_estimators=75, score=0.898, total=   0.8s\n",
      "[CV] max_features=sqrt, n_estimators=75 ..............................\n",
      "[CV] .. max_features=sqrt, n_estimators=75, score=0.887, total=   0.9s\n",
      "[CV] max_features=sqrt, n_estimators=100 .............................\n"
     ]
    },
    {
     "name": "stdout",
     "output_type": "stream",
     "text": [
      "[CV] . max_features=sqrt, n_estimators=100, score=0.895, total=   1.1s\n",
      "[CV] max_features=sqrt, n_estimators=100 .............................\n",
      "[CV] . max_features=sqrt, n_estimators=100, score=0.897, total=   1.0s\n",
      "[CV] max_features=sqrt, n_estimators=100 .............................\n",
      "[CV] . max_features=sqrt, n_estimators=100, score=0.890, total=   1.0s\n",
      "[CV] max_features=sqrt, n_estimators=100 .............................\n",
      "[CV] . max_features=sqrt, n_estimators=100, score=0.898, total=   1.0s\n",
      "[CV] max_features=sqrt, n_estimators=100 .............................\n",
      "[CV] . max_features=sqrt, n_estimators=100, score=0.885, total=   1.0s\n",
      "[CV] max_features=sqrt, n_estimators=125 .............................\n",
      "[CV] . max_features=sqrt, n_estimators=125, score=0.896, total=   1.3s\n",
      "[CV] max_features=sqrt, n_estimators=125 .............................\n",
      "[CV] . max_features=sqrt, n_estimators=125, score=0.901, total=   1.3s\n",
      "[CV] max_features=sqrt, n_estimators=125 .............................\n",
      "[CV] . max_features=sqrt, n_estimators=125, score=0.888, total=   1.3s\n",
      "[CV] max_features=sqrt, n_estimators=125 .............................\n",
      "[CV] . max_features=sqrt, n_estimators=125, score=0.906, total=   1.3s\n",
      "[CV] max_features=sqrt, n_estimators=125 .............................\n",
      "[CV] . max_features=sqrt, n_estimators=125, score=0.886, total=   1.3s\n",
      "[CV] max_features=sqrt, n_estimators=150 .............................\n",
      "[CV] . max_features=sqrt, n_estimators=150, score=0.895, total=   1.4s\n",
      "[CV] max_features=sqrt, n_estimators=150 .............................\n",
      "[CV] . max_features=sqrt, n_estimators=150, score=0.900, total=   1.5s\n",
      "[CV] max_features=sqrt, n_estimators=150 .............................\n",
      "[CV] . max_features=sqrt, n_estimators=150, score=0.890, total=   1.4s\n",
      "[CV] max_features=sqrt, n_estimators=150 .............................\n",
      "[CV] . max_features=sqrt, n_estimators=150, score=0.904, total=   1.5s\n",
      "[CV] max_features=sqrt, n_estimators=150 .............................\n",
      "[CV] . max_features=sqrt, n_estimators=150, score=0.888, total=   1.5s\n"
     ]
    },
    {
     "name": "stderr",
     "output_type": "stream",
     "text": [
      "[Parallel(n_jobs=1)]: Done  75 out of  75 | elapsed:  2.5min finished\n"
     ]
    },
    {
     "data": {
      "text/plain": [
       "GridSearchCV(cv=None, error_score=nan,\n",
       "             estimator=RandomForestClassifier(bootstrap=True, ccp_alpha=0.0,\n",
       "                                              class_weight=None,\n",
       "                                              criterion='gini', max_depth=None,\n",
       "                                              max_features='auto',\n",
       "                                              max_leaf_nodes=None,\n",
       "                                              max_samples=None,\n",
       "                                              min_impurity_decrease=0.0,\n",
       "                                              min_impurity_split=None,\n",
       "                                              min_samples_leaf=1,\n",
       "                                              min_samples_split=2,\n",
       "                                              min_weight_fraction_leaf=0.0,\n",
       "                                              n_estimators=100, n_jobs=None,\n",
       "                                              oob_score=False, random_state=99,\n",
       "                                              verbose=0, warm_start=False),\n",
       "             iid='deprecated', n_jobs=None,\n",
       "             param_grid={'max_features': [None, 'auto', 'sqrt'],\n",
       "                         'n_estimators': [50, 75, 100, 125, 150]},\n",
       "             pre_dispatch='2*n_jobs', refit=True, return_train_score=False,\n",
       "             scoring=None, verbose=3)"
      ]
     },
     "execution_count": 25,
     "metadata": {},
     "output_type": "execute_result"
    }
   ],
   "source": [
    "# Train the model with GridSearch\n",
    "grid.fit(X_train_scaled, y_train)"
   ]
  },
  {
   "cell_type": "code",
   "execution_count": 26,
   "metadata": {},
   "outputs": [
    {
     "name": "stdout",
     "output_type": "stream",
     "text": [
      "{'max_features': 'auto', 'n_estimators': 125}\n",
      "0.8954798826945327\n"
     ]
    }
   ],
   "source": [
    "print(grid.best_params_)\n",
    "print(grid.best_score_)"
   ]
  },
  {
   "cell_type": "code",
   "execution_count": 27,
   "metadata": {},
   "outputs": [
    {
     "data": {
      "text/plain": [
       "0.9101830663615561"
      ]
     },
     "execution_count": 27,
     "metadata": {},
     "output_type": "execute_result"
    }
   ],
   "source": [
    "# Train the model with GridSearch\n",
    "grid.score(X_test_scaled, y_test)"
   ]
  },
  {
   "cell_type": "code",
   "execution_count": 28,
   "metadata": {},
   "outputs": [
    {
     "data": {
      "text/plain": [
       "GridSearchCV(cv=None, error_score=nan,\n",
       "             estimator=RandomForestClassifier(bootstrap=True, ccp_alpha=0.0,\n",
       "                                              class_weight=None,\n",
       "                                              criterion='gini', max_depth=None,\n",
       "                                              max_features='auto',\n",
       "                                              max_leaf_nodes=None,\n",
       "                                              max_samples=None,\n",
       "                                              min_impurity_decrease=0.0,\n",
       "                                              min_impurity_split=None,\n",
       "                                              min_samples_leaf=1,\n",
       "                                              min_samples_split=2,\n",
       "                                              min_weight_fraction_leaf=0.0,\n",
       "                                              n_estimators=100, n_jobs=None,\n",
       "                                              oob_score=False, random_state=99,\n",
       "                                              verbose=0, warm_start=False),\n",
       "             iid='deprecated', n_jobs=None,\n",
       "             param_grid={'max_features': [None, 'auto', 'sqrt'],\n",
       "                         'n_estimators': [50, 75, 100, 125, 150]},\n",
       "             pre_dispatch='2*n_jobs', refit=True, return_train_score=False,\n",
       "             scoring=None, verbose=3)"
      ]
     },
     "execution_count": 28,
     "metadata": {},
     "output_type": "execute_result"
    }
   ],
   "source": [
    "grid"
   ]
  },
  {
   "cell_type": "code",
   "execution_count": 29,
   "metadata": {},
   "outputs": [
    {
     "data": {
      "text/plain": [
       "array([[-0.42276709, -0.57125689, -0.50369272, -0.3784998 ,  0.09043606,\n",
       "         0.34473881, -0.10896433,  0.24754247, -0.26193956, -0.03430973,\n",
       "        -0.84497302, -0.0462801 , -0.29592215, -0.35607115, -0.40580274,\n",
       "         0.67978453, -0.16645411, -0.03351199, -1.54207582,  1.27194921]])"
      ]
     },
     "execution_count": 29,
     "metadata": {},
     "output_type": "execute_result"
    }
   ],
   "source": [
    "len(X_test_scaled[0])\n",
    "X_test_scaled[0].shape\n",
    "X_test_scaled_point = X_test_scaled[0].reshape(1,20)\n",
    "X_test_scaled_point\n"
   ]
  },
  {
   "cell_type": "code",
   "execution_count": 31,
   "metadata": {},
   "outputs": [
    {
     "data": {
      "text/plain": [
       "array(['CONFIRMED'], dtype=object)"
      ]
     },
     "execution_count": 31,
     "metadata": {},
     "output_type": "execute_result"
    }
   ],
   "source": [
    "# Make a prediction!\n",
    "X_test_scaled_point = X_test_scaled[0].reshape(1,20)\n",
    "grid.predict(X_test_scaled_point)"
   ]
  },
  {
   "cell_type": "markdown",
   "metadata": {},
   "source": [
    "# Save the Model"
   ]
  },
  {
   "cell_type": "code",
   "execution_count": 32,
   "metadata": {},
   "outputs": [
    {
     "data": {
      "text/plain": [
       "['alexis-random-forest.sav']"
      ]
     },
     "execution_count": 32,
     "metadata": {},
     "output_type": "execute_result"
    }
   ],
   "source": [
    "# save your model by updating \"your_name\" with your name\n",
    "# and \"your_model\" with your model variable\n",
    "# be sure to turn this in to BCS\n",
    "# if joblib fails to import, try running the command to install in terminal/git-bash\n",
    "import joblib\n",
    "filename = 'alexis-random-forest.sav'\n",
    "joblib.dump(grid, filename)"
   ]
  },
  {
   "cell_type": "code",
   "execution_count": null,
   "metadata": {},
   "outputs": [],
   "source": []
  }
 ],
 "metadata": {
  "kernel_info": {
   "name": "dev"
  },
  "kernelspec": {
   "display_name": "py365_for_class",
   "language": "python",
   "name": "py365_for_class"
  },
  "language_info": {
   "codemirror_mode": {
    "name": "ipython",
    "version": 3
   },
   "file_extension": ".py",
   "mimetype": "text/x-python",
   "name": "python",
   "nbconvert_exporter": "python",
   "pygments_lexer": "ipython3",
   "version": "3.6.5"
  },
  "nteract": {
   "version": "0.12.3"
  }
 },
 "nbformat": 4,
 "nbformat_minor": 2
}
